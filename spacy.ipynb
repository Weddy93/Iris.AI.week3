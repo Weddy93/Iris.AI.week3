{
  "nbformat": 4,
  "nbformat_minor": 0,
  "metadata": {
    "colab": {
      "provenance": [],
      "authorship_tag": "ABX9TyPkUV6O9TIfCh8YDukRnigZ",
      "include_colab_link": true
    },
    "kernelspec": {
      "name": "python3",
      "display_name": "Python 3"
    },
    "language_info": {
      "name": "python"
    }
  },
  "cells": [
    {
      "cell_type": "markdown",
      "metadata": {
        "id": "view-in-github",
        "colab_type": "text"
      },
      "source": [
        "<a href=\"https://colab.research.google.com/github/Weddy93/Iris.AI.week3/blob/main/spacy.ipynb\" target=\"_parent\"><img src=\"https://colab.research.google.com/assets/colab-badge.svg\" alt=\"Open In Colab\"/></a>"
      ]
    },
    {
      "cell_type": "code",
      "execution_count": 18,
      "metadata": {
        "id": "Q0GYx4Axt8Ev"
      },
      "outputs": [],
      "source": []
    },
    {
      "cell_type": "code",
      "metadata": {
        "id": "f1b89a09"
      },
      "source": [
        "import spacy\n",
        "\n",
        "nlp = spacy.load(\"en_core_web_sm\")"
      ],
      "execution_count": 19,
      "outputs": []
    },
    {
      "cell_type": "code",
      "metadata": {
        "colab": {
          "base_uri": "https://localhost:8080/"
        },
        "id": "dda2c991",
        "outputId": "a9b31e08-b28f-479c-8fe5-b88e02d020de"
      },
      "source": [
        "text = \"I really love the new iPhone 15 Pro. It has an amazing camera. Samsung phones are also good, but I prefer Apple products.\"\n",
        "doc = nlp(text)\n",
        "print(doc)"
      ],
      "execution_count": 20,
      "outputs": [
        {
          "output_type": "stream",
          "name": "stdout",
          "text": [
            "I really love the new iPhone 15 Pro. It has an amazing camera. Samsung phones are also good, but I prefer Apple products.\n"
          ]
        }
      ]
    },
    {
      "cell_type": "code",
      "metadata": {
        "colab": {
          "base_uri": "https://localhost:8080/"
        },
        "id": "cf0cc717",
        "outputId": "d229a8b9-ae34-4ced-e879-f15b9ead3e9a"
      },
      "source": [
        "for ent in doc.ents:\n",
        "    if ent.label_ in ['PRODUCT', 'ORG']:\n",
        "        print(f\"Entity: {ent.text}, Label: {ent.label_}\")"
      ],
      "execution_count": 21,
      "outputs": [
        {
          "output_type": "stream",
          "name": "stdout",
          "text": [
            "Entity: Samsung, Label: ORG\n",
            "Entity: Apple, Label: ORG\n"
          ]
        }
      ]
    },
    {
      "cell_type": "code",
      "metadata": {
        "colab": {
          "base_uri": "https://localhost:8080/"
        },
        "id": "77ac57b1",
        "outputId": "19539ee1-c8a7-4583-d555-f147eb38ccdd"
      },
      "source": [
        "positive_words = [\"love\", \"amazing\", \"good\", \"prefer\"]\n",
        "negative_words = [\"dislike\", \"poor\", \"bad\"]\n",
        "\n",
        "sentiment_score = 0\n",
        "\n",
        "for token in doc:\n",
        "    if token.text.lower() in positive_words:\n",
        "        sentiment_score += 1\n",
        "    elif token.text.lower() in negative_words:\n",
        "        sentiment_score -= 1\n",
        "\n",
        "if sentiment_score > 0:\n",
        "    sentiment = \"positive\"\n",
        "elif sentiment_score < 0:\n",
        "    sentiment = \"negative\"\n",
        "else:\n",
        "    sentiment = \"neutral\"\n",
        "\n",
        "print(f\"Sentiment score: {sentiment_score}\")\n",
        "print(f\"Overall sentiment: {sentiment}\")"
      ],
      "execution_count": 22,
      "outputs": [
        {
          "output_type": "stream",
          "name": "stdout",
          "text": [
            "Sentiment score: 4\n",
            "Overall sentiment: positive\n"
          ]
        }
      ]
    },
    {
      "cell_type": "code",
      "metadata": {
        "colab": {
          "base_uri": "https://localhost:8080/"
        },
        "id": "c061cf29",
        "outputId": "495198a1-f1c5-40bf-9a37-710aa85f7036"
      },
      "source": [
        "print(\"\\n--- Extracted Entities ---\")\n",
        "for ent in doc.ents:\n",
        "    if ent.label_ in ['PRODUCT', 'ORG']:\n",
        "        print(f\"Entity: {ent.text}, Type: {ent.label_}\")\n",
        "\n",
        "print(\"\\n--- Sentiment Analysis Results ---\")\n",
        "print(f\"Overall sentiment: {sentiment}\")\n",
        "print(f\"Sentiment score: {sentiment_score}\")"
      ],
      "execution_count": 23,
      "outputs": [
        {
          "output_type": "stream",
          "name": "stdout",
          "text": [
            "\n",
            "--- Extracted Entities ---\n",
            "Entity: Samsung, Type: ORG\n",
            "Entity: Apple, Type: ORG\n",
            "\n",
            "--- Sentiment Analysis Results ---\n",
            "Overall sentiment: positive\n",
            "Sentiment score: 4\n"
          ]
        }
      ]
    }
  ]
}